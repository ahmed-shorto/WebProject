{
 "cells": [
  {
   "cell_type": "code",
   "execution_count": 6,
   "id": "886184d1-304a-47b4-a42d-4825856095de",
   "metadata": {},
   "outputs": [
    {
     "name": "stdout",
     "output_type": "stream",
     "text": [
      "None\n",
      "False\n"
     ]
    }
   ],
   "source": [
    "def is_prime(n):\n",
    "    if n <= 1:\n",
    "        return False\n",
    "    for i in range(2, int(n**0.5)+ 1):\n",
    "        if n % i == 0:\n",
    "            return False\n",
    "            return True\n",
    "print(is_prime(7))\n",
    "print(is_prime(10))"
   ]
  },
  {
   "cell_type": "code",
   "execution_count": 7,
   "id": "5e1a865f-3409-40c0-8b4b-8f1cf7069a19",
   "metadata": {},
   "outputs": [
    {
     "name": "stdout",
     "output_type": "stream",
     "text": [
      "15\n",
      "5\n",
      "50\n",
      "2.0\n"
     ]
    }
   ],
   "source": [
    " def calculator(a, b, operation):\n",
    "     if operation == \"add\":\n",
    "         return a + b\n",
    "     elif operation == \"subtract\":\n",
    "         return a - b\n",
    "     elif operation == \"multiply\":\n",
    "         return a * b\n",
    "     elif operation == \"divide\":\n",
    "         if b != 0:\n",
    "             return a / b\n",
    "         else:\n",
    "             return \"error: division by zero\"\n",
    "     else:\n",
    "         return \"invalid operation\"\n",
    "print(calculator(10, 5, \"add\"))\n",
    "print(calculator(10, 5, \"subtract\"))\n",
    "print(calculator(10, 5, \"multiply\"))\n",
    "print(calculator(10, 5, \"divide\"))"
   ]
  }
 ],
 "metadata": {
  "kernelspec": {
   "display_name": "Python 3 (ipykernel)",
   "language": "python",
   "name": "python3"
  },
  "language_info": {
   "codemirror_mode": {
    "name": "ipython",
    "version": 3
   },
   "file_extension": ".py",
   "mimetype": "text/x-python",
   "name": "python",
   "nbconvert_exporter": "python",
   "pygments_lexer": "ipython3",
   "version": "3.13.5"
  }
 },
 "nbformat": 4,
 "nbformat_minor": 5
}
