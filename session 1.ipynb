{
 "cells": [
  {
   "cell_type": "code",
   "execution_count": 13,
   "id": "0e46109b-145e-4bff-b1ab-6a0c3fe38232",
   "metadata": {},
   "outputs": [
    {
     "name": "stdout",
     "output_type": "stream",
     "text": [
      "the budget is enough\n",
      "remaining budget 200\n"
     ]
    }
   ],
   "source": [
    "item1 = 500\n",
    "item2 = 300\n",
    "item3 = 200\n",
    "budget = 1200\n",
    "total_cost = item1 + item2 + item3\n",
    "if total_cost <= budget: \n",
    "    print(\"the budget is enough\")\n",
    "else:\n",
    "    print(\"the budget is not enough\")\n",
    "difference = budget - total_cost\n",
    "if difference >= 0:\n",
    "    print(\"remaining budget\" , difference)\n",
    "else:\n",
    "    print(\"you need to increase the budget\" , abs(difference))"
   ]
  }
 ],
 "metadata": {
  "kernelspec": {
   "display_name": "Python 3 (ipykernel)",
   "language": "python",
   "name": "python3"
  },
  "language_info": {
   "codemirror_mode": {
    "name": "ipython",
    "version": 3
   },
   "file_extension": ".py",
   "mimetype": "text/x-python",
   "name": "python",
   "nbconvert_exporter": "python",
   "pygments_lexer": "ipython3",
   "version": "3.13.5"
  }
 },
 "nbformat": 4,
 "nbformat_minor": 5
}
