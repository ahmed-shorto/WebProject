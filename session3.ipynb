{
 "cells": [
  {
   "cell_type": "code",
   "execution_count": 15,
   "id": "12a63f39-00ad-4930-b5a8-b7513b1267f5",
   "metadata": {},
   "outputs": [
    {
     "name": "stdout",
     "output_type": "stream",
     "text": [
      "contacts list:\n",
      "ahmed\n",
      "melis\n",
      "laila\n",
      "fairouz\n"
     ]
    },
    {
     "name": "stdin",
     "output_type": "stream",
     "text": [
      "enter a name to searchL: laila\n"
     ]
    },
    {
     "name": "stdout",
     "output_type": "stream",
     "text": [
      "the phone number of laila is +964 7800000001\n"
     ]
    }
   ],
   "source": [
    "contacts = {\"ahmed\" : \"+20 01000000001\" , \"melis\" : \"+90 5000000001\" , \"laila\" : \"+964 7800000001\", \"fairouz\" : \"+961 71000001\"}\n",
    "print(\"contacts list:\")\n",
    "for name in contacts:\n",
    "    print(name)\n",
    "search = input(\"enter a name to searchL:\")\n",
    "if search in contacts:\n",
    "    print(f\"the phone number of {search} is {contacts[search]}\")\n",
    "else:\n",
    "    print(\"name not found in contacts\")"
   ]
  },
  {
   "cell_type": "code",
   "execution_count": 19,
   "id": "b550caf9-2733-4c5b-b99b-f9a44c6f10e7",
   "metadata": {},
   "outputs": [
    {
     "name": "stdout",
     "output_type": "stream",
     "text": [
      "ahmed - average grade : 85.0\n",
      "melis - average grade : 84.66666666666667\n",
      "laila - average grade : 83.0\n",
      "fairouz - average grade : 84.33333333333333\n"
     ]
    }
   ],
   "source": [
    "students = [{\"name\" : \"ahmed\" , \"grades\" : [80,90,85]} ,\n",
    " {\"name\" : \"melis\" , \"grades\" : [88,75,91]} ,\n",
    " {\"name\" : \"laila\" , \"grades\" : [85,80,84]} ,\n",
    " {\"name\" : \"fairouz\" , \"grades\" : [90,84,79]}]\n",
    "for student in students:\n",
    "    avg = sum(student[\"grades\"]) / len(student[\"grades\"])\n",
    "    print(f\"{student[\"name\"]} - average grade : {avg}\") "
   ]
  }
 ],
 "metadata": {
  "kernelspec": {
   "display_name": "Python 3 (ipykernel)",
   "language": "python",
   "name": "python3"
  },
  "language_info": {
   "codemirror_mode": {
    "name": "ipython",
    "version": 3
   },
   "file_extension": ".py",
   "mimetype": "text/x-python",
   "name": "python",
   "nbconvert_exporter": "python",
   "pygments_lexer": "ipython3",
   "version": "3.13.5"
  }
 },
 "nbformat": 4,
 "nbformat_minor": 5
}
