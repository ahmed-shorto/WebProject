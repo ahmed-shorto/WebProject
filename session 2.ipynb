{
 "cells": [
  {
   "cell_type": "code",
   "execution_count": 1,
   "id": "72b83d7d-1cae-45e2-a2dc-135f60c67aeb",
   "metadata": {},
   "outputs": [
    {
     "name": "stdin",
     "output_type": "stream",
     "text": [
      "enter the temperature incelsius 27\n"
     ]
    },
    {
     "name": "stdout",
     "output_type": "stream",
     "text": [
      "it's warm day. enjoy the weather!\n"
     ]
    }
   ],
   "source": [
    "temperature = float(input(\"enter the temperature incelsius\"))\n",
    "if temperature >=30:print(\"it's a hot day. stay hydrated!\") \n",
    "elif 20 <= temperature <= 29:print(\"it's warm day. enjoy the weather!\")\n",
    "elif 10 <= temperature <= 19:print(\"it's cool day. wear a jacket!\")\n",
    "else:\n",
    "    print(\"it's a cold day. stay warm!\")"
   ]
  },
  {
   "cell_type": "code",
   "execution_count": 24,
   "id": "4fe00dd9-de9c-45a3-bdaa-67734960f405",
   "metadata": {},
   "outputs": [
    {
     "name": "stdout",
     "output_type": "stream",
     "text": [
      "numbers divisible by 3 (one per line):\n",
      "3\n",
      "6\n",
      "9\n",
      "12\n",
      "15\n",
      "18\n"
     ]
    }
   ],
   "source": [
    "numbers = list(range(1,21))\n",
    "print(\"numbers divisible by 3 (one per line):\")\n",
    "for num in numbers:\n",
    "    if num % 3 == 0:print(num)"
   ]
  }
 ],
 "metadata": {
  "kernelspec": {
   "display_name": "Python 3 (ipykernel)",
   "language": "python",
   "name": "python3"
  },
  "language_info": {
   "codemirror_mode": {
    "name": "ipython",
    "version": 3
   },
   "file_extension": ".py",
   "mimetype": "text/x-python",
   "name": "python",
   "nbconvert_exporter": "python",
   "pygments_lexer": "ipython3",
   "version": "3.13.5"
  }
 },
 "nbformat": 4,
 "nbformat_minor": 5
}
